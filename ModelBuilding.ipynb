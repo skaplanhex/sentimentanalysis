{
 "cells": [
  {
   "cell_type": "code",
   "execution_count": 1,
   "metadata": {},
   "outputs": [],
   "source": [
    "import numpy as np\n",
    "import pandas as pd"
   ]
  },
  {
   "cell_type": "code",
   "execution_count": 2,
   "metadata": {},
   "outputs": [],
   "source": [
    "df = pd.read_csv(\"inquirer_cleaned.csv\")"
   ]
  },
  {
   "cell_type": "code",
   "execution_count": 3,
   "metadata": {},
   "outputs": [
    {
     "data": {
      "text/html": [
       "<div>\n",
       "<style scoped>\n",
       "    .dataframe tbody tr th:only-of-type {\n",
       "        vertical-align: middle;\n",
       "    }\n",
       "\n",
       "    .dataframe tbody tr th {\n",
       "        vertical-align: top;\n",
       "    }\n",
       "\n",
       "    .dataframe thead th {\n",
       "        text-align: right;\n",
       "    }\n",
       "</style>\n",
       "<table border=\"1\" class=\"dataframe\">\n",
       "  <thead>\n",
       "    <tr style=\"text-align: right;\">\n",
       "      <th></th>\n",
       "      <th>Word</th>\n",
       "      <th>isPositive</th>\n",
       "      <th>Sentiment</th>\n",
       "    </tr>\n",
       "  </thead>\n",
       "  <tbody>\n",
       "    <tr>\n",
       "      <th>0</th>\n",
       "      <td>ABANDON</td>\n",
       "      <td>0</td>\n",
       "      <td>neg</td>\n",
       "    </tr>\n",
       "    <tr>\n",
       "      <th>1</th>\n",
       "      <td>ABANDONMENT</td>\n",
       "      <td>0</td>\n",
       "      <td>neg</td>\n",
       "    </tr>\n",
       "    <tr>\n",
       "      <th>2</th>\n",
       "      <td>ABATE</td>\n",
       "      <td>0</td>\n",
       "      <td>neg</td>\n",
       "    </tr>\n",
       "    <tr>\n",
       "      <th>3</th>\n",
       "      <td>ABDICATE</td>\n",
       "      <td>0</td>\n",
       "      <td>neg</td>\n",
       "    </tr>\n",
       "    <tr>\n",
       "      <th>4</th>\n",
       "      <td>ABHOR</td>\n",
       "      <td>0</td>\n",
       "      <td>neg</td>\n",
       "    </tr>\n",
       "    <tr>\n",
       "      <th>5</th>\n",
       "      <td>ABIDE</td>\n",
       "      <td>1</td>\n",
       "      <td>pos</td>\n",
       "    </tr>\n",
       "    <tr>\n",
       "      <th>6</th>\n",
       "      <td>ABILITY</td>\n",
       "      <td>1</td>\n",
       "      <td>pos</td>\n",
       "    </tr>\n",
       "    <tr>\n",
       "      <th>7</th>\n",
       "      <td>ABJECT</td>\n",
       "      <td>0</td>\n",
       "      <td>neg</td>\n",
       "    </tr>\n",
       "    <tr>\n",
       "      <th>8</th>\n",
       "      <td>ABLE</td>\n",
       "      <td>1</td>\n",
       "      <td>pos</td>\n",
       "    </tr>\n",
       "    <tr>\n",
       "      <th>9</th>\n",
       "      <td>ABNORMAL</td>\n",
       "      <td>0</td>\n",
       "      <td>neg</td>\n",
       "    </tr>\n",
       "  </tbody>\n",
       "</table>\n",
       "</div>"
      ],
      "text/plain": [
       "          Word  isPositive Sentiment\n",
       "0      ABANDON           0       neg\n",
       "1  ABANDONMENT           0       neg\n",
       "2        ABATE           0       neg\n",
       "3     ABDICATE           0       neg\n",
       "4        ABHOR           0       neg\n",
       "5        ABIDE           1       pos\n",
       "6      ABILITY           1       pos\n",
       "7       ABJECT           0       neg\n",
       "8         ABLE           1       pos\n",
       "9     ABNORMAL           0       neg"
      ]
     },
     "execution_count": 3,
     "metadata": {},
     "output_type": "execute_result"
    }
   ],
   "source": [
    "df.head(10)"
   ]
  },
  {
   "cell_type": "code",
   "execution_count": 4,
   "metadata": {},
   "outputs": [
    {
     "data": {
      "text/html": [
       "<div>\n",
       "<style scoped>\n",
       "    .dataframe tbody tr th:only-of-type {\n",
       "        vertical-align: middle;\n",
       "    }\n",
       "\n",
       "    .dataframe tbody tr th {\n",
       "        vertical-align: top;\n",
       "    }\n",
       "\n",
       "    .dataframe thead th {\n",
       "        text-align: right;\n",
       "    }\n",
       "</style>\n",
       "<table border=\"1\" class=\"dataframe\">\n",
       "  <thead>\n",
       "    <tr style=\"text-align: right;\">\n",
       "      <th></th>\n",
       "      <th>Word</th>\n",
       "      <th>isPositive</th>\n",
       "      <th>Sentiment</th>\n",
       "    </tr>\n",
       "  </thead>\n",
       "  <tbody>\n",
       "    <tr>\n",
       "      <th>0</th>\n",
       "      <td>abandon</td>\n",
       "      <td>0</td>\n",
       "      <td>neg</td>\n",
       "    </tr>\n",
       "    <tr>\n",
       "      <th>1</th>\n",
       "      <td>abandonment</td>\n",
       "      <td>0</td>\n",
       "      <td>neg</td>\n",
       "    </tr>\n",
       "    <tr>\n",
       "      <th>2</th>\n",
       "      <td>abate</td>\n",
       "      <td>0</td>\n",
       "      <td>neg</td>\n",
       "    </tr>\n",
       "    <tr>\n",
       "      <th>3</th>\n",
       "      <td>abdicate</td>\n",
       "      <td>0</td>\n",
       "      <td>neg</td>\n",
       "    </tr>\n",
       "    <tr>\n",
       "      <th>4</th>\n",
       "      <td>abhor</td>\n",
       "      <td>0</td>\n",
       "      <td>neg</td>\n",
       "    </tr>\n",
       "    <tr>\n",
       "      <th>5</th>\n",
       "      <td>abide</td>\n",
       "      <td>1</td>\n",
       "      <td>pos</td>\n",
       "    </tr>\n",
       "    <tr>\n",
       "      <th>6</th>\n",
       "      <td>ability</td>\n",
       "      <td>1</td>\n",
       "      <td>pos</td>\n",
       "    </tr>\n",
       "    <tr>\n",
       "      <th>7</th>\n",
       "      <td>abject</td>\n",
       "      <td>0</td>\n",
       "      <td>neg</td>\n",
       "    </tr>\n",
       "    <tr>\n",
       "      <th>8</th>\n",
       "      <td>able</td>\n",
       "      <td>1</td>\n",
       "      <td>pos</td>\n",
       "    </tr>\n",
       "    <tr>\n",
       "      <th>9</th>\n",
       "      <td>abnormal</td>\n",
       "      <td>0</td>\n",
       "      <td>neg</td>\n",
       "    </tr>\n",
       "  </tbody>\n",
       "</table>\n",
       "</div>"
      ],
      "text/plain": [
       "          Word  isPositive Sentiment\n",
       "0      abandon           0       neg\n",
       "1  abandonment           0       neg\n",
       "2        abate           0       neg\n",
       "3     abdicate           0       neg\n",
       "4        abhor           0       neg\n",
       "5        abide           1       pos\n",
       "6      ability           1       pos\n",
       "7       abject           0       neg\n",
       "8         able           1       pos\n",
       "9     abnormal           0       neg"
      ]
     },
     "execution_count": 4,
     "metadata": {},
     "output_type": "execute_result"
    }
   ],
   "source": [
    "# Should have just done this before\n",
    "df[\"Word\"] = df[\"Word\"].apply(lambda x : x.lower())\n",
    "df.head(10)"
   ]
  },
  {
   "cell_type": "code",
   "execution_count": 23,
   "metadata": {},
   "outputs": [],
   "source": [
    "# train classifier\n",
    "pos_words = df[df.Sentiment==\"pos\"][\"Word\"]\n",
    "neg_words = df[df.Sentiment==\"neg\"][\"Word\"]\n",
    "\n",
    "def remove_punctuation(word):\n",
    "    return word.replace(\".\",\"\").replace(\",\",\"\").replace(\"'\",\"\").replace(\"!\",\"\")\n",
    "def is_positive(l):\n",
    "    l = remove_punctuation(l)\n",
    "    print(l)\n",
    "    s = l.split()\n",
    "    pos_score = 0\n",
    "    neg_score = 0\n",
    "    for word in s:\n",
    "        if word.lower() in pos_words:\n",
    "            pos_score += 1\n",
    "        if word.lower() in neg_words:\n",
    "            neg_score += 1\n",
    "    print(pos_score,neg_score)\n",
    "    return pos_score > neg_score"
   ]
  },
  {
   "cell_type": "code",
   "execution_count": 24,
   "metadata": {},
   "outputs": [
    {
     "name": "stdout",
     "output_type": "stream",
     "text": [
      "Trump Targets Muslim Areas in Refugee Ban\n",
      "0 0\n"
     ]
    },
    {
     "data": {
      "text/plain": [
       "False"
      ]
     },
     "execution_count": 24,
     "metadata": {},
     "output_type": "execute_result"
    }
   ],
   "source": [
    "is_positive(\"Trump Targets Muslim Areas in Refugee Ban\")"
   ]
  },
  {
   "cell_type": "code",
   "execution_count": 25,
   "metadata": {},
   "outputs": [
    {
     "name": "stdout",
     "output_type": "stream",
     "text": [
      "Trump Vows Cuts in Wall St Rules From Obama Era\n",
      "0 0\n"
     ]
    },
    {
     "data": {
      "text/plain": [
       "False"
      ]
     },
     "execution_count": 25,
     "metadata": {},
     "output_type": "execute_result"
    }
   ],
   "source": [
    "is_positive(\"Trump Vows Cuts in Wall St. Rules From Obama Era\")"
   ]
  },
  {
   "cell_type": "code",
   "execution_count": 26,
   "metadata": {},
   "outputs": [
    {
     "name": "stdout",
     "output_type": "stream",
     "text": [
      "World Leaders Pledge $11 Trillion to Tackle Crisis\n",
      "0 0\n"
     ]
    },
    {
     "data": {
      "text/plain": [
       "False"
      ]
     },
     "execution_count": 26,
     "metadata": {},
     "output_type": "execute_result"
    }
   ],
   "source": [
    "is_positive(\"World Leaders Pledge $1.1 Trillion to Tackle Crisis\")"
   ]
  },
  {
   "cell_type": "code",
   "execution_count": 29,
   "metadata": {},
   "outputs": [
    {
     "name": "stdout",
     "output_type": "stream",
     "text": [
      "A Giant US Bomb Strikes ISIS Caves In Afghanistan\n",
      "0 0\n"
     ]
    },
    {
     "data": {
      "text/plain": [
       "False"
      ]
     },
     "execution_count": 29,
     "metadata": {},
     "output_type": "execute_result"
    }
   ],
   "source": [
    "is_positive(\"A Giant U.S. Bomb Strikes ISIS Caves In Afghanistan\")"
   ]
  },
  {
   "cell_type": "code",
   "execution_count": 30,
   "metadata": {},
   "outputs": [
    {
     "data": {
      "text/plain": [
       "5                abide\n",
       "6              ability\n",
       "8                 able\n",
       "12              abound\n",
       "20             absolve\n",
       "21           absorbent\n",
       "22          absorption\n",
       "25           abundance\n",
       "26            abundant\n",
       "29              accede\n",
       "30          accentuate\n",
       "31              accept\n",
       "32          acceptable\n",
       "33          acceptance\n",
       "34          accessible\n",
       "35           accession\n",
       "37             acclaim\n",
       "38         acclamation\n",
       "39            accolade\n",
       "40         accommodate\n",
       "41       accommodation\n",
       "42       accompaniment\n",
       "43          accomplish\n",
       "44      accomplishment\n",
       "45              accord\n",
       "46          accordance\n",
       "48         accountable\n",
       "49              accrue\n",
       "50            accuracy\n",
       "51            accurate\n",
       "             ...      \n",
       "3550             vivid\n",
       "3554         voluntary\n",
       "3556         vouchsafe\n",
       "3566              warm\n",
       "3567       warmhearted\n",
       "3568            warmth\n",
       "3583           welcome\n",
       "3584           welfare\n",
       "3585              well\n",
       "3589         whimsical\n",
       "3592         wholesome\n",
       "3596           willful\n",
       "3597           willing\n",
       "3598       willingness\n",
       "3602            wisdom\n",
       "3603              wise\n",
       "3607             witty\n",
       "3610            wonder\n",
       "3611         wonderful\n",
       "3612          wondrous\n",
       "3613               woo\n",
       "3614          workable\n",
       "3615       workmanship\n",
       "3616      world-famous\n",
       "3623             worth\n",
       "3624       worth-while\n",
       "3625        worthiness\n",
       "3627            worthy\n",
       "3642            zenith\n",
       "3643              zest\n",
       "Name: Word, Length: 1638, dtype: object"
      ]
     },
     "execution_count": 30,
     "metadata": {},
     "output_type": "execute_result"
    }
   ],
   "source": [
    "pos_words"
   ]
  },
  {
   "cell_type": "code",
   "execution_count": 31,
   "metadata": {},
   "outputs": [
    {
     "data": {
      "text/plain": [
       "0             abandon\n",
       "1         abandonment\n",
       "2               abate\n",
       "3            abdicate\n",
       "4               abhor\n",
       "7              abject\n",
       "9            abnormal\n",
       "10            abolish\n",
       "11         abominable\n",
       "13           abrasive\n",
       "14             abrupt\n",
       "15            abscond\n",
       "16            absence\n",
       "17             absent\n",
       "18      absent-minded\n",
       "19           absentee\n",
       "23             absurd\n",
       "24          absurdity\n",
       "27              abuse\n",
       "28              abyss\n",
       "36           accident\n",
       "47             accost\n",
       "53           accursed\n",
       "54         accusation\n",
       "55             accuse\n",
       "56               ache\n",
       "64        acrimonious\n",
       "65           acrimony\n",
       "73             addict\n",
       "74          addiction\n",
       "            ...      \n",
       "3595             wild\n",
       "3599             wilt\n",
       "3600             wily\n",
       "3601            wince\n",
       "3604       witchcraft\n",
       "3605         withheld\n",
       "3606         withhold\n",
       "3608              woe\n",
       "3609           woeful\n",
       "3617             worn\n",
       "3618          worrier\n",
       "3619            worry\n",
       "3620            worse\n",
       "3621           worsen\n",
       "3622            worst\n",
       "3626        worthless\n",
       "3628            wound\n",
       "3629            wrath\n",
       "3630            wreck\n",
       "3631          wrestle\n",
       "3632           wretch\n",
       "3633     wretchedness\n",
       "3634          wrinkle\n",
       "3635           writhe\n",
       "3636            wrong\n",
       "3637         wrongful\n",
       "3638          wrought\n",
       "3639             yawn\n",
       "3640            yearn\n",
       "3641             yelp\n",
       "Name: Word, Length: 2006, dtype: object"
      ]
     },
     "execution_count": 31,
     "metadata": {},
     "output_type": "execute_result"
    }
   ],
   "source": [
    "neg_words"
   ]
  },
  {
   "cell_type": "code",
   "execution_count": null,
   "metadata": {},
   "outputs": [],
   "source": []
  }
 ],
 "metadata": {
  "kernelspec": {
   "display_name": "Python 3",
   "language": "python",
   "name": "python3"
  },
  "language_info": {
   "codemirror_mode": {
    "name": "ipython",
    "version": 3
   },
   "file_extension": ".py",
   "mimetype": "text/x-python",
   "name": "python",
   "nbconvert_exporter": "python",
   "pygments_lexer": "ipython3",
   "version": "3.6.4"
  }
 },
 "nbformat": 4,
 "nbformat_minor": 2
}
